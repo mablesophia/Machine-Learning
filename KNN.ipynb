{
 "cells": [
  {
   "cell_type": "code",
   "execution_count": 1,
   "metadata": {
    "collapsed": false
   },
   "outputs": [],
   "source": [
    "import numpy as np\n",
    "import matplotlib.pyplot as plt\n",
    "import mltools as ml\n",
    "\n",
    "from sklearn.feature_selection import f_classif, SelectKBest\n",
    "from sklearn.neighbors import KNeighborsClassifier,KNeighborsRegressor\n",
    "from sklearn.metrics import accuracy_score, roc_auc_score,mean_squared_error\n",
    "from sklearn.cluster import KMeans\n",
    "from sklearn.linear_model import LinearRegression, ARDRegression\n",
    "from sklearn.ensemble import GradientBoostingRegressor,AdaBoostRegressor"
   ]
  },
  {
   "cell_type": "code",
   "execution_count": 2,
   "metadata": {
    "collapsed": true
   },
   "outputs": [],
   "source": [
    "X = np.genfromtxt(\"X_train.txt\", delimiter=None)\n",
    "Y = np.genfromtxt(\"Y_train.txt\", delimiter=None)\n",
    "Xtest = np.genfromtxt(\"X_test.txt\",delimiter=None)\n",
    "X,Y = ml.shuffleData(X,Y)\n",
    "Xtr, Xte, Ytr, Yte = ml.splitData(X, Y, 0.75)"
   ]
  },
  {
   "cell_type": "code",
   "execution_count": null,
   "metadata": {
    "collapsed": false
   },
   "outputs": [],
   "source": [
    "X = np.genfromtxt(\"X_train.txt\", delimiter=None)[:10000] \n",
    "Y = np.genfromtxt(\"Y_train.txt\", delimiter=None)[:10000] \n",
    "Xtest = np.genfromtxt(\"X_test.txt\",delimiter=None)\n",
    "X,Y = ml.shuffleData(X,Y)\n",
    "Xtr, Xte, Ytr, Yte = ml.splitData(X, Y, 0.75)\n",
    "\n",
    "K = [1,2,5,10,50,100,200,500,1000,1500,2000,5000,7500]\n",
    "knnpredict = []\n",
    "knnpredict1 = []\n",
    "knnVMse = []\n",
    "knnTMse = []\n",
    "for i,k in enumerate(K):\n",
    "    knn = KNeighborsRegressor(n_neighbors = k)\n",
    "    knn.fit(Xtr[:, 0:4], Ytr)\n",
    "    knnpredict.append(knn.predict(Xte[:, 0:4]))\n",
    "    knnpredict1.append(knn.predict(Xtr[:, 0:4]))\n",
    "\n",
    "for p in knnpredict:\n",
    "    knnVMse.append(mean_squared_error(Yte, p))\n",
    "    \n",
    "for p in knnpredict1:\n",
    "    knnTMse.append(mean_squared_error(Ytr,p))\n",
    "    \n",
    "for i in range(len(knnVMse)):\n",
    "    print \"k = {:04d}: VMse = {:05f}, TMse = {:05f}\".format(K[i],knnVMse[i],knnTMse[i])"
   ]
  },
  {
   "cell_type": "code",
   "execution_count": null,
   "metadata": {
    "collapsed": false
   },
   "outputs": [],
   "source": [
    "bestK = K[knnVMse.index(min(knnVMse))]\n",
    "print bestK\n",
    "\n",
    "print len(knnpredict)"
   ]
  },
  {
   "cell_type": "code",
   "execution_count": 13,
   "metadata": {
    "collapsed": false
   },
   "outputs": [
    {
     "data": {
      "text/plain": [
       "LinearRegression(copy_X=True, fit_intercept=True, n_jobs=1, normalize=True)"
      ]
     },
     "execution_count": 13,
     "metadata": {},
     "output_type": "execute_result"
    }
   ],
   "source": [
    "clfs = [KMeans(n_clusters=8, init='random'),\n",
    "        KNeighborsRegressor(n_neighbors = 200),\n",
    "        GradientBoostingRegressor(n_estimators=16000)\n",
    "       ]\n",
    "\n",
    "temp_results_t = np.zeros((  len(Ytr)        ,len(clfs) ))   #x1,x2\n",
    "temp_results_v = np.zeros((  len(Yte)        ,len(clfs) ))   #y1,y2\n",
    "test1        = np.zeros((  Xtest.shape[0] ,len(clfs) ))   \n",
    "for i, clf in enumerate(clfs):\n",
    "    clf.fit(Xtr,Ytr)\n",
    "    temp_results_v[:,i] = clf.predict(Xte)\n",
    "    temp_results_t[:,i] = clf.predict(Xtr)\n",
    "    test1[:,i] = clf.predict(Xtest)\n",
    "\n",
    "lr = LinearRegression(normalize=True)\n",
    "lr.fit(temp_results_v, Yte)"
   ]
  },
  {
   "cell_type": "code",
   "execution_count": 14,
   "metadata": {
    "collapsed": false
   },
   "outputs": [
    {
     "name": "stdout",
     "output_type": "stream",
     "text": [
      "AUC on Train data:  0.936152812476\n",
      "AUC on Valid data:  0.756755744071\n"
     ]
    }
   ],
   "source": [
    "print \"AUC on Train data: \",roc_auc_score(Ytr, lr.predict(temp_results_t))\n",
    "print \"AUC on Valid data: \",roc_auc_score(Yte, lr.predict(temp_results_v))"
   ]
  },
  {
   "cell_type": "code",
   "execution_count": 16,
   "metadata": {
    "collapsed": false
   },
   "outputs": [],
   "source": [
    "Ypred_lr = lr.predict(test1)\n",
    "np.savetxt('Yhat_knn_lr_3_15.txt', np.vstack( (np.arange(len(Ypred_lr)) , Ypred_lr) ).T, '%d, %.2f',header='ID,Prob1',comments='',delimiter=',');"
   ]
  },
  {
   "cell_type": "code",
   "execution_count": null,
   "metadata": {
    "collapsed": true
   },
   "outputs": [],
   "source": []
  }
 ],
 "metadata": {
  "anaconda-cloud": {},
  "kernelspec": {
   "display_name": "Python [default]",
   "language": "python",
   "name": "python2"
  },
  "language_info": {
   "codemirror_mode": {
    "name": "ipython",
    "version": 2
   },
   "file_extension": ".py",
   "mimetype": "text/x-python",
   "name": "python",
   "nbconvert_exporter": "python",
   "pygments_lexer": "ipython2",
   "version": "2.7.12"
  }
 },
 "nbformat": 4,
 "nbformat_minor": 1
}
