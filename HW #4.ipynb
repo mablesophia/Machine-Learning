{
 "cells": [
  {
   "cell_type": "code",
   "execution_count": 1,
   "metadata": {
    "collapsed": false
   },
   "outputs": [],
   "source": [
    "# problem 2(a)\n",
    "import numpy as np\n",
    "import matplotlib.pyplot as plt\n",
    "import mltools as ml\n",
    "import mltools.dtree as d_tree\n",
    "\n",
    "X = np.genfromtxt(\"X_train.txt\", delimiter=None)[:10000] \n",
    "Y = np.genfromtxt(\"Y_train.txt\", delimiter=None)[:10000] \n",
    "Xtr, Xte, Ytr, Yte = ml.splitData(X, Y, 0.75)"
   ]
  },
  {
   "cell_type": "code",
   "execution_count": 2,
   "metadata": {
    "collapsed": false
   },
   "outputs": [
    {
     "name": "stdout",
     "output_type": "stream",
     "text": [
      "Training Error   =  0.0036\n",
      "Validation Error =  0.3836\n"
     ]
    }
   ],
   "source": [
    "# problem 2(b)\n",
    "learner = ml.dtree.treeClassify(Xtr, Ytr, maxDepth=50)\n",
    "print \"Training Error   = \", learner.err(Xtr, Ytr)\n",
    "print \"Validation Error = \", learner.err(Xte, Yte)"
   ]
  },
  {
   "cell_type": "code",
   "execution_count": 3,
   "metadata": {
    "collapsed": false
   },
   "outputs": [
    {
     "name": "stdout",
     "output_type": "stream",
     "text": [
      "Depth 00: training error = 0.340267 validation error = 0.346400\n",
      "Depth 01: training error = 0.340267 validation error = 0.346400\n",
      "Depth 02: training error = 0.322800 validation error = 0.342800\n",
      "Depth 03: training error = 0.310133 validation error = 0.331600\n",
      "Depth 04: training error = 0.309333 validation error = 0.330800\n",
      "Depth 05: training error = 0.303733 validation error = 0.324400\n",
      "Depth 06: training error = 0.296933 validation error = 0.326400\n",
      "Depth 07: training error = 0.284933 validation error = 0.331600\n",
      "Depth 08: training error = 0.272933 validation error = 0.331600\n",
      "Depth 09: training error = 0.258667 validation error = 0.340000\n",
      "Depth 10: training error = 0.236133 validation error = 0.329200\n",
      "Depth 11: training error = 0.215867 validation error = 0.344000\n",
      "Depth 12: training error = 0.194933 validation error = 0.349200\n",
      "Depth 13: training error = 0.176800 validation error = 0.347600\n",
      "Depth 14: training error = 0.158667 validation error = 0.356800\n",
      "Depth 15: training error = 0.141733 validation error = 0.353600\n"
     ]
    }
   ],
   "source": [
    "# problem 2(c)\n",
    "for d in range(16):\n",
    "    learner.train(Xtr, Ytr, maxDepth = d)\n",
    "    Xtr_error = learner.err(Xtr, Ytr)\n",
    "    Xte_error = learner.err(Xte, Yte)\n",
    "    print(\"Depth {:02d}: training error = {:05f} validation error = {:05f}\".format(d, Xtr_error, Xte_error))"
   ]
  },
  {
   "cell_type": "code",
   "execution_count": 4,
   "metadata": {
    "collapsed": false
   },
   "outputs": [
    {
     "name": "stdout",
     "output_type": "stream",
     "text": [
      "2^02 min leaf: training error = 0.098533 validation error = 0.381200\n",
      "2^03 min leaf: training error = 0.168533 validation error = 0.373200\n",
      "2^04 min leaf: training error = 0.227600 validation error = 0.373200\n",
      "2^05 min leaf: training error = 0.265467 validation error = 0.342400\n",
      "2^06 min leaf: training error = 0.289467 validation error = 0.319600\n",
      "2^07 min leaf: training error = 0.300533 validation error = 0.315200\n",
      "2^08 min leaf: training error = 0.310133 validation error = 0.320800\n",
      "2^09 min leaf: training error = 0.317600 validation error = 0.329200\n",
      "2^10 min leaf: training error = 0.322800 validation error = 0.342800\n",
      "2^11 min leaf: training error = 0.340267 validation error = 0.346400\n",
      "2^12 min leaf: training error = 0.340267 validation error = 0.346400\n"
     ]
    }
   ],
   "source": [
    "# problem 2(d)\n",
    "for d in range(2, 13):\n",
    "    learner.train(Xtr, Ytr, maxDepth=50, minLeaf=2**d)\n",
    "    Xtr_error = learner.err(Xtr, Ytr)\n",
    "    Xte_error = learner.err(Xte, Yte)\n",
    "    print(\"2^{:02d} min leaf: training error = {:05f} validation error = {:05f}\".format(d,Xtr_error,Xte_error))"
   ]
  },
  {
   "cell_type": "code",
   "execution_count": 5,
   "metadata": {
    "collapsed": false
   },
   "outputs": [
    {
     "data": {
      "image/png": "[encoded data removed]",
      "text/plain": [
       "<matplotlib.figure.Figure at 0x10a9fae90>"
      ]
     },
     "metadata": {},
     "output_type": "display_data"
    }
   ],
   "source": [
    "# problem 2(f)\n",
    "(A,B,C)=learner.roc(Xtr, Ytr)\n",
    "plt.plot(A, B)\n",
    "plt.title(\"ROC curve on trained model\")\n",
    "plt.show()"
   ]
  },
  {
   "cell_type": "code",
   "execution_count": 6,
   "metadata": {
    "collapsed": false
   },
   "outputs": [
    {
     "name": "stdout",
     "output_type": "stream",
     "text": [
      "AUC score on training data   =  0.5\n"
     ]
    }
   ],
   "source": [
    "print \"AUC score on training data   = \", learner.auc(Xtr, Ytr)"
   ]
  },
  {
   "cell_type": "code",
   "execution_count": 7,
   "metadata": {
    "collapsed": false
   },
   "outputs": [
    {
     "name": "stdout",
     "output_type": "stream",
     "text": [
      "AUC score on validation data =  0.709440978185\n"
     ]
    }
   ],
   "source": [
    "X2 = np.genfromtxt(\"X_train.txt\", delimiter=None)[10000:20000] \n",
    "Y2 = np.genfromtxt(\"Y_train.txt\", delimiter=None)[10000:20000] \n",
    "Xtr2, Xte2, Ytr2, Yte2 = ml.splitData(X2, Y2, 0.75)\n",
    "learner2 = ml.dtree.treeClassify(Xtr, Ytr, maxDepth=50)\n",
    "learner2.train(X2, Y2, minLeaf=2**6, maxDepth=7)\n",
    "\n",
    "print \"AUC score on validation data = \", learner2.auc(Xte2, Yte2)"
   ]
  },
  {
   "cell_type": "code",
   "execution_count": 8,
   "metadata": {
    "collapsed": false
   },
   "outputs": [],
   "source": [
    "# problem 2(g)\n",
    "learner.train(X, Y, minLeaf=2**6, maxDepth=7)\n",
    "\n",
    "XT = np.genfromtxt(\"X_test.txt\", delimiter=None)\n",
    "Ypred = learner.predictSoft(XT)\n",
    "\n",
    "#np.savetxt(\"Yhat_dtree.txt\", np.vstack((np.arange(len(Ypred)), Ypred[:,1])).T, \"%d, %.2f\",header=\"ID,Prob1\",comments=\"\",delimiter=\",\")"
   ]
  },
  {
   "cell_type": "code",
   "execution_count": 9,
   "metadata": {
    "collapsed": false
   },
   "outputs": [],
   "source": [
    "# problem 3(a)\n",
    "X = np.genfromtxt(\"X_train.txt\", delimiter=None)[:10000] \n",
    "Y = np.genfromtxt(\"Y_train.txt\", delimiter=None)[:10000]\n",
    "Xtr, Xte, Ytr, Yte = ml.splitData(X, Y, 0.75)\n",
    "\n",
    "m = Xtr.shape[0]\n",
    "n = Xte.shape[0]\n",
    "nBag = 25\n",
    "classifiers = [None]*nBag\n",
    "predict_Xtr = np.zeros((m, nBag))\n",
    "predict_Xte = np.zeros((n, nBag))\n",
    "\n",
    "for i in range(nBag):\n",
    "    A, B = ml.bootstrapData(Xtr, Ytr, m)\n",
    "    classifiers[i] = ml.dtree.treeClassify(A, B, maxDepth=15, minLeaf=4)\n",
    "    predict_Xtr[:, i] = classifiers[i].predict(Xtr)\n",
    "    predict_Xte[:, i] = classifiers[i].predict(Xte)"
   ]
  },
  {
   "cell_type": "code",
   "execution_count": 10,
   "metadata": {
    "collapsed": false
   },
   "outputs": [
    {
     "name": "stdout",
     "output_type": "stream",
     "text": [
      "01 learners: training error = 0.234533 validation error = 0.417200\n",
      "05 learners: training error = 0.132075 validation error = 0.300096\n",
      "10 learners: training error = 0.115667 validation error = 0.280632\n",
      "25 learners: training error = 0.108492 validation error = 0.271764\n"
     ]
    }
   ],
   "source": [
    "for i in [1, 5, 10, 25]:\n",
    "    train_error = ((Ytr-predict_Xtr[:,0:i].mean(axis=1))**2).mean()\n",
    "    val_error   = ((Ytr[:2500]-predict_Xte[:,0:i].mean(axis=1))**2).mean()\n",
    "    print(\"{:02d} learners: training error = {:05f} validation error = {:05f}\".format(i, train_error, val_error))"
   ]
  },
  {
   "cell_type": "code",
   "execution_count": 11,
   "metadata": {
    "collapsed": false
   },
   "outputs": [
    {
     "name": "stdout",
     "output_type": "stream",
     "text": [
      "AUC score on validation data = "
     ]
    },
    {
     "ename": "NameError",
     "evalue": "name 'Xte1' is not defined",
     "output_type": "error",
     "traceback": [
      "\u001b[0;31m---------------------------------------------------------------------------\u001b[0m",
      "\u001b[0;31mNameError\u001b[0m                                 Traceback (most recent call last)",
      "\u001b[0;32m<ipython-input-11-c9b4a52f4794>\u001b[0m in \u001b[0;36m<module>\u001b[0;34m()\u001b[0m\n\u001b[1;32m      2\u001b[0m \u001b[0mlearner_new\u001b[0m \u001b[0;34m=\u001b[0m \u001b[0mml\u001b[0m\u001b[0;34m.\u001b[0m\u001b[0mdtree\u001b[0m\u001b[0;34m.\u001b[0m\u001b[0mtreeClassify\u001b[0m\u001b[0;34m(\u001b[0m\u001b[0mA\u001b[0m\u001b[0;34m,\u001b[0m \u001b[0mB\u001b[0m\u001b[0;34m,\u001b[0m \u001b[0mmaxDepth\u001b[0m\u001b[0;34m=\u001b[0m\u001b[0;36m15\u001b[0m\u001b[0;34m,\u001b[0m \u001b[0mminLeaf\u001b[0m\u001b[0;34m=\u001b[0m\u001b[0;36m4\u001b[0m\u001b[0;34m)\u001b[0m\u001b[0;34m\u001b[0m\u001b[0m\n\u001b[1;32m      3\u001b[0m \u001b[0;34m\u001b[0m\u001b[0m\n\u001b[0;32m----> 4\u001b[0;31m \u001b[0;32mprint\u001b[0m \u001b[0;34m\"AUC score on validation data = \"\u001b[0m\u001b[0;34m,\u001b[0m \u001b[0mlearner_new\u001b[0m\u001b[0;34m.\u001b[0m\u001b[0mauc\u001b[0m\u001b[0;34m(\u001b[0m\u001b[0mXte1\u001b[0m\u001b[0;34m,\u001b[0m \u001b[0mYte1\u001b[0m\u001b[0;34m)\u001b[0m\u001b[0;34m\u001b[0m\u001b[0m\n\u001b[0m",
      "\u001b[0;31mNameError\u001b[0m: name 'Xte1' is not defined"
     ]
    }
   ],
   "source": [
    "# problem 3(b)\n",
    "learner_new = ml.dtree.treeClassify(A, B, maxDepth=15, minLeaf=4)\n",
    "\n",
    "print \"AUC score on validation data = \", learner_new.auc(Xte1, Yte1)"
   ]
  },
  {
   "cell_type": "code",
   "execution_count": null,
   "metadata": {
    "collapsed": true
   },
   "outputs": [],
   "source": [
    "XT2 = np.genfromtxt(\"X_test.txt\", delimiter=None)\n",
    "Ypred2 = learner_new.predictSoft(XT2)\n",
    "\n",
    "#np.savetxt(\"Yhat_rforest.txt\", np.vstack((np.arange(len(Ypred2)), Ypred2[:,1])).T, \"%d, %.2f\",header=\"ID,Prob1\",comments=\"\",delimiter=\",\")"
   ]
  },
  {
   "cell_type": "code",
   "execution_count": null,
   "metadata": {
    "collapsed": true
   },
   "outputs": [],
   "source": []
  }
 ],
 "metadata": {
  "anaconda-cloud": {},
  "kernelspec": {
   "display_name": "Python [default]",
   "language": "python",
   "name": "python2"
  },
  "language_info": {
   "codemirror_mode": {
    "name": "ipython",
    "version": 2
   },
   "file_extension": ".py",
   "mimetype": "text/x-python",
   "name": "python",
   "nbconvert_exporter": "python",
   "pygments_lexer": "ipython2",
   "version": "2.7.12"
  }
 },
 "nbformat": 4,
 "nbformat_minor": 1
}
