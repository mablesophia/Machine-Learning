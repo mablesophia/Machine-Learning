{
 "cells": [
  {
   "cell_type": "code",
   "execution_count": 1,
   "metadata": {
    "collapsed": false
   },
   "outputs": [
    {
     "name": "stderr",
     "output_type": "stream",
     "text": [
      "sklearn/cross_validation.py:44: DeprecationWarning: This module was deprecated in version 0.18 in favor of the model_selection module into which all the refactored classes and functions are moved. Also note that the interface of the new CV iterators are different from that of this module. This module will be removed in 0.20.\n",
      "  \"This module will be removed in 0.20.\", DeprecationWarning)\n"
     ]
    }
   ],
   "source": [
    "import numpy as np\n",
    "import matplotlib.pyplot as plt\n",
    "import mltools as ml\n",
    "from mltools import dtree\n",
    "from mltools import cluster\n",
    "#import mltools.logistic2 as lc2\n",
    "\n",
    "import pandas as pd\n",
    "import numpy as np\n",
    "from sklearn.cross_validation import KFold\n",
    "from sklearn import metrics\n",
    "from sklearn.ensemble import RandomForestRegressor, ExtraTreesRegressor, GradientBoostingRegressor\n",
    "from sklearn.linear_model import RidgeCV\n",
    "from sklearn.metrics import roc_auc_score"
   ]
  },
  {
   "cell_type": "code",
   "execution_count": 2,
   "metadata": {
    "collapsed": true
   },
   "outputs": [],
   "source": [
    "X = np.genfromtxt(\"X_train.txt\", delimiter=None)\n",
    "Y = np.genfromtxt(\"Y_train.txt\", delimiter=None)\n",
    "Xtest = np.genfromtxt(\"X_test.txt\",delimiter=None)"
   ]
  },
  {
   "cell_type": "code",
   "execution_count": 27,
   "metadata": {
    "collapsed": true
   },
   "outputs": [],
   "source": [
    "\n",
    "n_trees = 275\n",
    "clfs = [\n",
    "        ExtraTreesRegressor(n_estimators = n_trees *2, bootstrap=True),\n",
    "        RandomForestRegressor(n_estimators = n_trees),\n",
    "        GradientBoostingRegressor(n_estimators = 30000)\n",
    "    ]"
   ]
  },
  {
   "cell_type": "code",
   "execution_count": 28,
   "metadata": {
    "collapsed": false
   },
   "outputs": [],
   "source": [
    "X1,X2,Y1,Y2 = ml.splitData(X,Y,0.75)\n",
    "temp_results_t = np.zeros((  len(Y1)        ,len(clfs) ))   #x1,x2\n",
    "temp_results_v = np.zeros((  len(Y2)        ,len(clfs) ))   #y1,y2\n",
    "test1        = np.zeros((  Xtest.shape[0] ,len(clfs) ))   \n",
    "for i, clf in enumerate(clfs):\n",
    "    clf.fit(X1,Y1)\n",
    "    temp_results_v[:,i] = clf.predict(X2)\n",
    "    temp_results_t[:,i] = clf.predict(X1)\n",
    "    test1[:,i] = clf.predict(Xtest)"
   ]
  },
  {
   "cell_type": "code",
   "execution_count": 29,
   "metadata": {
    "collapsed": false
   },
   "outputs": [
    {
     "name": "stdout",
     "output_type": "stream",
     "text": [
      "AUC on Train data:  0.991269247971\n",
      "AUC on Valid data:  0.76047274566\n"
     ]
    }
   ],
   "source": [
    "#alphas = [0.0001, 0.005, 0.001, 0.005, 0.01, 0.05, 0.1, 0.5, 1.0]\n",
    "alphas = [0.0001, 0.005, 0.001, 0.005, 0.01, 0.05, 0.1, 0.5, 1.0, 5.0, 10.0, 50.0, 100.0, 500.0, 1000.0]\n",
    "\n",
    "from sklearn.metrics import roc_auc_score\n",
    "from sklearn.linear_model import LinearRegression\n",
    "\n",
    "lr = LinearRegression(normalize=True)\n",
    "lr.fit(temp_results_v, Y2)\n",
    "\n",
    "print \"AUC on Train data: \",roc_auc_score(Y1, lr.predict(temp_results_t))\n",
    "print \"AUC on Valid data: \",roc_auc_score(Y2, lr.predict(temp_results_v))"
   ]
  },
  {
   "cell_type": "code",
   "execution_count": 30,
   "metadata": {
    "collapsed": false
   },
   "outputs": [],
   "source": [
    "Ypred = bclf.predict(test1)\n",
    "\n",
    "Ypred_lr = lr.predict(test1)\n",
    "np.savetxt('Yhat_rf_3.txt', np.vstack( (np.arange(len(Ypred_lr)) , Ypred_lr) ).T, '%d, %.2f',header='ID,Prob1',comments='',delimiter=',');"
   ]
  },
  {
   "cell_type": "code",
   "execution_count": 27,
   "metadata": {
    "collapsed": false
   },
   "outputs": [
    {
     "name": "stdout",
     "output_type": "stream",
     "text": [
      "<type 'numpy.ndarray'>\n"
     ]
    }
   ],
   "source": [
    "print type(temp_results_v)"
   ]
  },
  {
   "cell_type": "code",
   "execution_count": null,
   "metadata": {
    "collapsed": true
   },
   "outputs": [],
   "source": []
  }
 ],
 "metadata": {
  "anaconda-cloud": {},
  "kernelspec": {
   "display_name": "Python [default]",
   "language": "python",
   "name": "python2"
  },
  "language_info": {
   "codemirror_mode": {
    "name": "ipython",
    "version": 2
   },
   "file_extension": ".py",
   "mimetype": "text/x-python",
   "name": "python",
   "nbconvert_exporter": "python",
   "pygments_lexer": "ipython2",
   "version": "2.7.12"
  }
 },
 "nbformat": 4,
 "nbformat_minor": 1
}
