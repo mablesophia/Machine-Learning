{
 "cells": [
  {
   "cell_type": "code",
   "execution_count": 23,
   "metadata": {
    "collapsed": true
   },
   "outputs": [],
   "source": [
    "import numpy as np\n",
    "import matplotlib.pyplot as plt\n",
    "import mltools as ml\n",
    "\n",
    "X = np.genfromtxt(\"X_train.txt\", delimiter=None)[:10000] \n",
    "Y = np.genfromtxt(\"Y_train.txt\", delimiter=None)[:10000] \n",
    "Xtest = np.genfromtxt(\"X_test.txt\",delimiter=None)\n",
    "X,Y = ml.shuffleData(X,Y)\n",
    "Xtr, Xte, Ytr, Yte = ml.splitData(X, Y, 0.75)"
   ]
  },
  {
   "cell_type": "code",
   "execution_count": 2,
   "metadata": {
    "collapsed": true
   },
   "outputs": [],
   "source": [
    "# Create a class with basic interface\n",
    "class Ensemble:\n",
    "    def __init__(self):\n",
    "        self.learners = []\n",
    "        self.phis = []\n",
    "    \n",
    "    def add(self, learner, phi=None):\n",
    "        self.learners.append(learner)\n",
    "        if phi == None:\n",
    "            self.phis.append(lambda x : x)\n",
    "        else:\n",
    "            self.phis.append(phi)\n",
    "    \n",
    "    def predict(self, X):\n",
    "        predictions = []\n",
    "        for learner,phi in zip(self.learners, self.phis):\n",
    "            predictions.append(learner.predict(phi(X))) # Predict using each learner once\n",
    "        prediction = np.mean(predictions, axis=0) # Average the the predictions\n",
    "        return prediction.ravel()\n",
    "\n",
    "# Instantiate the class\n",
    "ensemble = Ensemble()"
   ]
  },
  {
   "cell_type": "code",
   "execution_count": 3,
   "metadata": {
    "collapsed": false
   },
   "outputs": [
    {
     "name": "stdout",
     "output_type": "stream",
     "text": [
      "('k =', 1, ' VMSE =', 0.39800000000000002)\n",
      "('k =', 2, ' VMSE =', 0.30209999999999998)\n",
      "('k =', 5, ' VMSE =', 0.24729600000000002)\n",
      "('k =', 10, ' VMSE =', 0.22753599999999996)\n",
      "('k =', 50, ' VMSE =', 0.20863904000000003)\n",
      "('k =', 100, ' VMSE =', 0.20903331999999999)\n",
      "('k =', 200, ' VMSE =', 0.20965781000000003)\n",
      "('k =', 500, ' VMSE =', 0.21018690560000006)\n",
      "('k =', 1000, ' VMSE =', 0.21110304759999998)\n",
      "('k =', 1500, ' VMSE =', 0.21226322186666666)\n",
      "('k =', 2000, ' VMSE =', 0.21299201919999999)\n",
      "('k =', 5000, ' VMSE =', 0.21961263390399999)\n",
      "('k =', 7500, ' VMSE =', 0.22516288000000004)\n",
      "50\n"
     ]
    }
   ],
   "source": [
    "from sklearn.neighbors import KNeighborsRegressor\n",
    "from sklearn.metrics import mean_squared_error\n",
    "\n",
    "K = [1,2,5,10,50,100,200,500,1000,1500,2000,5000,7500]\n",
    "knnpredict = []\n",
    "knnVMse = []\n",
    "for k in K:\n",
    "    knn = KNeighborsRegressor(n_neighbors = k)\n",
    "    knn.fit(Xtr[:, 0:4], Ytr)\n",
    "    knnpredict.append(knn.predict(Xte[:, 0:4]))\n",
    "    \n",
    "for p in knnpredict:\n",
    "    knnVMse.append(mean_squared_error(Yte, p))\n",
    "for i in range(len(knnVMse)):\n",
    "    print(\"k =\", K[i], \" VMSE =\", knnVMse[i])\n",
    "\n",
    "bestK = K[knnVMse.index(min(knnVMse))]\n",
    "print bestK\n"
   ]
  },
  {
   "cell_type": "code",
   "execution_count": 32,
   "metadata": {
    "collapsed": false
   },
   "outputs": [
    {
     "name": "stdout",
     "output_type": "stream",
     "text": [
      "AUC on Train data:  0.932311784512\n",
      "AUC on Valid data:  0.681713159054\n"
     ]
    }
   ],
   "source": [
    "from sklearn.cluster import KMeans\n",
    "from sklearn.linear_model import LinearRegression, LogisticRegression\n",
    "from sklearn.ensemble import GradientBoostingRegressor,AdaBoostRegressor\n",
    "\n",
    "clfs = [KMeans(n_clusters=1000),\n",
    "        KNeighborsRegressor(n_neighbors = 1000),\n",
    "        GradientBoostingRegressor(n_estimators=1000)\n",
    "       ]\n",
    "\n",
    "X1,X2,Y1,Y2 = ml.splitData(X,Y,0.75)\n",
    "temp_results_t = np.zeros((  len(Y1)        ,len(clfs) ))   #x1,x2\n",
    "temp_results_v = np.zeros((  len(Y2)        ,len(clfs) ))   #y1,y2\n",
    "test1        = np.zeros((  Xtest.shape[0] ,len(clfs) ))   \n",
    "for i, clf in enumerate(clfs):\n",
    "    clf.fit(X1,Y1)\n",
    "    temp_results_v[:,i] = clf.predict(X2)\n",
    "    temp_results_t[:,i] = clf.predict(X1)\n",
    "    test1[:,i] = clf.predict(Xtest)\n",
    "\n",
    "lr = LinearRegression(normalize=True)\n",
    "#lr = LogisticRegression()\n",
    "lr.fit(temp_results_v, Y2)\n",
    "\n",
    "print \"AUC on Train data: \",roc_auc_score(Y1, lr.predict(temp_results_t))\n",
    "print \"AUC on Valid data: \",roc_auc_score(Y2, lr.predict(temp_results_v))"
   ]
  },
  {
   "cell_type": "code",
   "execution_count": 28,
   "metadata": {
    "collapsed": true
   },
   "outputs": [],
   "source": [
    "Ypred_lr = lr.predict(test1)\n",
    "np.savetxt('Yhat_knn_lr.txt', np.vstack( (np.arange(len(Ypred_lr)) , Ypred_lr) ).T, '%d, %.2f',header='ID,Prob1',comments='',delimiter=',');"
   ]
  },
  {
   "cell_type": "code",
   "execution_count": 13,
   "metadata": {
    "collapsed": false
   },
   "outputs": [
    {
     "name": "stdout",
     "output_type": "stream",
     "text": [
      "('x0', ' VMSE =', 0.21320479999999997)\n",
      "('x1', ' VMSE =', 0.22272400000000003)\n",
      "('x2', ' VMSE =', 0.22332879999999999)\n",
      "('x3', ' VMSE =', 0.22399344000000002)\n",
      "('x4', ' VMSE =', 0.22907887999999998)\n",
      "('x5', ' VMSE =', 0.22382800000000003)\n",
      "('x6', ' VMSE =', 0.23235296000000003)\n",
      "('x7', ' VMSE =', 0.22498783999999999)\n",
      "('x8', ' VMSE =', 0.22486319999999996)\n",
      "('x9', ' VMSE =', 0.22528624)\n",
      "('x10', ' VMSE =', 0.22863984000000001)\n",
      "('x11', ' VMSE =', 0.22829807999999999)\n",
      "('x12', ' VMSE =', 0.22322688000000002)\n",
      "('x13', ' VMSE =', 0.22018703999999997)\n",
      "[(0, 0.21320479999999997), (13, 0.22018703999999997), (1, 0.22272400000000003), (12, 0.22322688000000002), (2, 0.22332879999999999)]\n"
     ]
    }
   ],
   "source": [
    "n = Xtr.shape[1]\n",
    "knnpredict = []\n",
    "knnVMse = []\n",
    "xs = [i for i in range(n)]\n",
    "for i in range(n):\n",
    "    knn = KNeighborsRegressor(n_neighbors = bestK)\n",
    "    knn.fit(Xtr[:, i].reshape(Xtr.shape[0], 1), Ytr)\n",
    "    p = knn.predict(Xte[:, i].reshape(Xte.shape[0], 1))\n",
    "    knnpredict.append(p)\n",
    "    knnVMse.append(mean_squared_error(Yte, p))\n",
    "    \n",
    "for i in range(n):\n",
    "    print(\"x\" + str(i), \" VMSE =\", knnVMse[i])\n",
    "    \n",
    "zipped = zip(xs, knnVMse)\n",
    "featureRank = sorted(zipped, key = lambda x: x[1])\n",
    "print(featureRank[0:5])"
   ]
  },
  {
   "cell_type": "code",
   "execution_count": 6,
   "metadata": {
    "collapsed": false
   },
   "outputs": [],
   "source": [
    "features = []\n",
    "for i in range(n):\n",
    "    features.append(featureRank[i][0])\n",
    "\n",
    "selectedf = tuple(features)"
   ]
  },
  {
   "cell_type": "code",
   "execution_count": 20,
   "metadata": {
    "collapsed": false
   },
   "outputs": [
    {
     "name": "stdout",
     "output_type": "stream",
     "text": [
      " AUC on Valid data:  0.603843344248\n"
     ]
    }
   ],
   "source": [
    "from sklearn.metrics import roc_auc_score\n",
    "\n",
    "phi = lambda X: X[:, (0, 13, 1, 12, 2)]\n",
    "knn = KNeighborsRegressor(n_neighbors = bestK)\n",
    "knn.fit(Xtr[:, selectedf], Ytr)\n",
    "p = knn.predict(Xte[:, selectedf])\n",
    "ptr = knn.predict(Xtr[:, selectedf])\n",
    "VMSE = mean_squared_error(Yte, p)\n",
    "Tmse = mean_squared_error(Ytr, ptr)\n",
    "print \"AUC on Valid data: \",roc_auc_score(Yte, p)\n",
    "\n",
    "ensemble.add(knn, phi)"
   ]
  },
  {
   "cell_type": "code",
   "execution_count": null,
   "metadata": {
    "collapsed": true
   },
   "outputs": [],
   "source": []
  }
 ],
 "metadata": {
  "anaconda-cloud": {},
  "kernelspec": {
   "display_name": "Python [default]",
   "language": "python",
   "name": "python2"
  },
  "language_info": {
   "codemirror_mode": {
    "name": "ipython",
    "version": 2
   },
   "file_extension": ".py",
   "mimetype": "text/x-python",
   "name": "python",
   "nbconvert_exporter": "python",
   "pygments_lexer": "ipython2",
   "version": "2.7.12"
  }
 },
 "nbformat": 4,
 "nbformat_minor": 1
}
