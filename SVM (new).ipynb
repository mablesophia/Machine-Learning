{
 "cells": [
  {
   "cell_type": "code",
   "execution_count": 1,
   "metadata": {
    "collapsed": true
   },
   "outputs": [],
   "source": [
    "import numpy as np\n",
    "import matplotlib.pyplot as plt\n",
    "import mltools as ml\n",
    "\n",
    "from sklearn.metrics import accuracy_score, roc_auc_score,mean_squared_error\n",
    "from sklearn.ensemble import GradientBoostingRegressor,AdaBoostRegressor\n",
    "from sklearn.svm import SVC,LinearSVC\n",
    "\n",
    "X = np.genfromtxt(\"X_train.txt\", delimiter=None)\n",
    "Y = np.genfromtxt(\"Y_train.txt\", delimiter=None)\n",
    "Xtest = np.genfromtxt(\"X_test.txt\",delimiter=None)\n",
    "X,Y = ml.shuffleData(X,Y)\n",
    "Xtr, Xte, Ytr, Yte = ml.splitData(X, Y, 0.75)"
   ]
  },
  {
   "cell_type": "code",
   "execution_count": null,
   "metadata": {
    "collapsed": false
   },
   "outputs": [],
   "source": [
    "C = [0.01, 0.1, 0.5, 0.8, 1,1.3,10,100]\n",
    "svcVMse = np.zeros(len(C))\n",
    "svcTMse = np.zeros(len(C))\n",
    "for i,c in enumerate(C):\n",
    "    svr_c = SVC(C=c, kernel='rbf')\n",
    "    predict_svr_c = svr_c.fit(Xtr, Ytr)\n",
    "    svcVMse[i] = mean_squared_error(Yte, predict_svr_c.predict(Xte))\n",
    "    svcTMse[i] = mean_squared_error(Ytr, predict_svr_c.predict(Xtr))\n",
    "    "
   ]
  },
  {
   "cell_type": "code",
   "execution_count": null,
   "metadata": {
    "collapsed": false
   },
   "outputs": [],
   "source": [
    "for i in range(len(svcVMse)):\n",
    "    print \"c = {:}: VMse = {:05f}, TMse = {:05f}\".format(C[i],svcVMse[i],svcTMse[i])"
   ]
  },
  {
   "cell_type": "code",
   "execution_count": null,
   "metadata": {
    "collapsed": true
   },
   "outputs": [],
   "source": [
    "G = [0.01, 0.1, 0.5, 0.8, 1,1.3,10,100]\n",
    "svcVMse2 = np.zeros(len(G))\n",
    "svcTMse2 = np.zeros(len(G))\n",
    "for i,g in enumerate(G):\n",
    "    svr_c = SVC(C=0.8, kernel='rbf', gamma=g)\n",
    "    predict_svr_c = svr_c.fit(Xtr, Ytr)\n",
    "    svcVMse2[i] = mean_squared_error(Yte, predict_svr_c.predict(Xte))\n",
    "    svcTMse2[i] = mean_squared_error(Ytr, predict_svr_c.predict(Xtr))"
   ]
  },
  {
   "cell_type": "code",
   "execution_count": null,
   "metadata": {
    "collapsed": false
   },
   "outputs": [],
   "source": [
    "for i in range(len(svcVMse2)):\n",
    "    print \"g = {:}: VMse = {:05f}, TMse = {:05f}\".format(G[i],svcVMse2[i],svcTMse2[i])"
   ]
  },
  {
   "cell_type": "code",
   "execution_count": 15,
   "metadata": {
    "collapsed": false
   },
   "outputs": [],
   "source": [
    "from sklearn.cluster import KMeans,MiniBatchKMeans,AffinityPropagation\n",
    "from sklearn.linear_model import LinearRegression, ARDRegression\n",
    "\n",
    "clfs = [KMeans(n_clusters=8),\n",
    "        SVC(C=0.8, kernel='rbf', gamma=0.1),\n",
    "        GradientBoostingRegressor(n_estimators=16000)\n",
    "       ]"
   ]
  },
  {
   "cell_type": "code",
   "execution_count": 16,
   "metadata": {
    "collapsed": false
   },
   "outputs": [
    {
     "data": {
      "text/plain": [
       "LinearRegression(copy_X=True, fit_intercept=True, n_jobs=1, normalize=True)"
      ]
     },
     "execution_count": 16,
     "metadata": {},
     "output_type": "execute_result"
    }
   ],
   "source": [
    "temp_results_t = np.zeros((  len(Ytr)        ,len(clfs) ))   #x1,x2\n",
    "temp_results_v = np.zeros((  len(Yte)        ,len(clfs) ))   #y1,y2\n",
    "test1        = np.zeros((  Xtest.shape[0] ,len(clfs) ))   \n",
    "for i, clf in enumerate(clfs):\n",
    "    clf.fit(Xtr,Ytr)\n",
    "    temp_results_v[:,i] = clf.predict(Xte)\n",
    "    temp_results_t[:,i] = clf.predict(Xtr)\n",
    "    test1[:,i] = clf.predict(Xtest)\n",
    "\n",
    "lr = LinearRegression(normalize=True)\n",
    "lr.fit(temp_results_v, Yte)"
   ]
  },
  {
   "cell_type": "code",
   "execution_count": 17,
   "metadata": {
    "collapsed": false
   },
   "outputs": [
    {
     "name": "stdout",
     "output_type": "stream",
     "text": [
      "AUC on Train data:  0.947482712235\n",
      "AUC on Valid data:  0.756948110858\n"
     ]
    }
   ],
   "source": [
    "print \"AUC on Train data: \",roc_auc_score(Ytr, lr.predict(temp_results_t))\n",
    "print \"AUC on Valid data: \",roc_auc_score(Yte, lr.predict(temp_results_v))"
   ]
  },
  {
   "cell_type": "code",
   "execution_count": 18,
   "metadata": {
    "collapsed": true
   },
   "outputs": [],
   "source": [
    "Ypred_lr = lr.predict(test1)\n",
    "np.savetxt('Yhat_svm_lr_6.txt', np.vstack( (np.arange(len(Ypred_lr)) , Ypred_lr) ).T, '%d, %.2f',header='ID,Prob1',comments='',delimiter=',');"
   ]
  },
  {
   "cell_type": "code",
   "execution_count": null,
   "metadata": {
    "collapsed": true
   },
   "outputs": [],
   "source": []
  }
 ],
 "metadata": {
  "anaconda-cloud": {},
  "kernelspec": {
   "display_name": "Python [default]",
   "language": "python",
   "name": "python2"
  },
  "language_info": {
   "codemirror_mode": {
    "name": "ipython",
    "version": 2
   },
   "file_extension": ".py",
   "mimetype": "text/x-python",
   "name": "python",
   "nbconvert_exporter": "python",
   "pygments_lexer": "ipython2",
   "version": "2.7.12"
  }
 },
 "nbformat": 4,
 "nbformat_minor": 1
}
