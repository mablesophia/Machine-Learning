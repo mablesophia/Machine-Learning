{
 "cells": [
  {
   "cell_type": "code",
   "execution_count": 2,
   "metadata": {
    "collapsed": true
   },
   "outputs": [],
   "source": [
    "import numpy as np\n",
    "import matplotlib.pyplot as plt\n",
    "import mltools as ml\n",
    "\n",
    "from sklearn.ensemble import GradientBoostingRegressor,AdaBoostRegressor\n",
    "from sklearn.metrics import roc_auc_score, mean_squared_error\n",
    "from sklearn.neural_network import MLPRegressor\n",
    "from sklearn.linear_model import LinearRegression, ARDRegression\n",
    "from sklearn.cluster import KMeans\n",
    "\n",
    "X = np.genfromtxt(\"X_train.txt\", delimiter=None)\n",
    "Y = np.genfromtxt(\"Y_train.txt\", delimiter=None)\n",
    "Xtest = np.genfromtxt(\"X_test.txt\",delimiter=None)\n",
    "X,Y = ml.shuffleData(X,Y)\n",
    "Xtr, Xte, Ytr, Yte = ml.splitData(X, Y, 0.7)"
   ]
  },
  {
   "cell_type": "code",
   "execution_count": null,
   "metadata": {
    "collapsed": false
   },
   "outputs": [],
   "source": [
    "H = [1,2,3,4,5,6,10]\n",
    "nnVMse = np.zeros(len(H))\n",
    "nnTMse = np.zeros(len(H))\n",
    "\n",
    "for i,h in enumerate(H):\n",
    "    nn = MLPRegressor(hidden_layer_sizes=(h),solver=\"adam\")\n",
    "    nnpredict = nn.fit(Xtr, Ytr)\n",
    "    nnTMse[i] = mean_squared_error(Ytr, nnpredict.predict(Xtr))\n",
    "    nnVMse[i] = mean_squared_error(Yte, nnpredict.predict(Xte))"
   ]
  },
  {
   "cell_type": "code",
   "execution_count": null,
   "metadata": {
    "collapsed": false
   },
   "outputs": [],
   "source": [
    "for i in range(len(nnVMse)):\n",
    "    print \"h = {}: VMse = {:05f}, TMse = {:05f}\".format(H[i],nnVMse[i],nnTMse[i])"
   ]
  },
  {
   "cell_type": "code",
   "execution_count": 6,
   "metadata": {
    "collapsed": false
   },
   "outputs": [],
   "source": [
    "clfs = [MLPRegressor(hidden_layer_sizes=(4),solver=\"adam\"),\n",
    "        GradientBoostingRegressor(loss='huber',max_depth=4,n_estimators=4000)\n",
    "       ]"
   ]
  },
  {
   "cell_type": "code",
   "execution_count": 7,
   "metadata": {
    "collapsed": false
   },
   "outputs": [
    {
     "data": {
      "text/plain": [
       "LinearRegression(copy_X=True, fit_intercept=True, n_jobs=1, normalize=True)"
      ]
     },
     "execution_count": 7,
     "metadata": {},
     "output_type": "execute_result"
    }
   ],
   "source": [
    "temp_results_t = np.zeros((  len(Ytr)        ,len(clfs) ))   #x1,x2\n",
    "temp_results_v = np.zeros((  len(Yte)        ,len(clfs) ))   #y1,y2\n",
    "test1        = np.zeros((  Xtest.shape[0] ,len(clfs) ))   \n",
    "for i, clf in enumerate(clfs):\n",
    "    clf.fit(Xtr,Ytr)\n",
    "    temp_results_v[:,i] = clf.predict(Xte)\n",
    "    temp_results_t[:,i] = clf.predict(Xtr)\n",
    "    test1[:,i] = clf.predict(Xtest)\n",
    "\n",
    "lr = LinearRegression(normalize=True)\n",
    "lr.fit(temp_results_v, Yte)"
   ]
  },
  {
   "cell_type": "code",
   "execution_count": 8,
   "metadata": {
    "collapsed": false
   },
   "outputs": [
    {
     "name": "stdout",
     "output_type": "stream",
     "text": [
      "AUC on Train data:  0.820249024437\n",
      "AUC on Valid data:  0.72466409965\n"
     ]
    }
   ],
   "source": [
    "print \"AUC on Train data: \",roc_auc_score(Ytr, lr.predict(temp_results_t))\n",
    "print \"AUC on Valid data: \",roc_auc_score(Yte, lr.predict(temp_results_v))"
   ]
  },
  {
   "cell_type": "code",
   "execution_count": 20,
   "metadata": {
    "collapsed": true
   },
   "outputs": [],
   "source": [
    "Ypred_lr = lr.predict(test1)\n",
    "np.savetxt('Yhat_nn_lr_3.txt', np.vstack( (np.arange(len(Ypred_lr)) , Ypred_lr) ).T, '%d, %.2f',header='ID,Prob1',comments='',delimiter=',');"
   ]
  },
  {
   "cell_type": "code",
   "execution_count": null,
   "metadata": {
    "collapsed": true
   },
   "outputs": [],
   "source": []
  }
 ],
 "metadata": {
  "anaconda-cloud": {},
  "kernelspec": {
   "display_name": "Python [default]",
   "language": "python",
   "name": "python2"
  },
  "language_info": {
   "codemirror_mode": {
    "name": "ipython",
    "version": 2
   },
   "file_extension": ".py",
   "mimetype": "text/x-python",
   "name": "python",
   "nbconvert_exporter": "python",
   "pygments_lexer": "ipython2",
   "version": "2.7.12"
  }
 },
 "nbformat": 4,
 "nbformat_minor": 1
}
